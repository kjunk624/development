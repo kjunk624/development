{
 "cells": [
  {
   "cell_type": "code",
   "execution_count": 7,
   "metadata": {},
   "outputs": [],
   "source": [
    "import requests\n",
    "from bs4 import BeautifulSoup"
   ]
  },
  {
   "cell_type": "code",
   "execution_count": null,
   "metadata": {},
   "outputs": [],
   "source": []
  },
  {
   "cell_type": "code",
   "execution_count": 12,
   "metadata": {},
   "outputs": [
    {
     "name": "stdout",
     "output_type": "stream",
     "text": [
      "Requirement already satisfied: beautifulsoup4 in /Users/kimjy/opt/anaconda3/lib/python3.8/site-packages (4.9.3)\n",
      "Requirement already satisfied: soupsieve>1.2; python_version >= \"3.0\" in /Users/kimjy/opt/anaconda3/lib/python3.8/site-packages (from beautifulsoup4) (2.0.1)\n",
      "Note: you may need to restart the kernel to use updated packages.\n"
     ]
    }
   ],
   "source": [
    "pip install beautifulsoup4\n"
   ]
  },
  {
   "cell_type": "code",
   "execution_count": 18,
   "metadata": {},
   "outputs": [
    {
     "name": "stdout",
     "output_type": "stream",
     "text": [
      "당첨번호\n",
      "['3', '4', '15', '22', '28', '40']\n",
      "보너스 번호\n",
      "10\n"
     ]
    }
   ],
   "source": [
    "url = \"https://dhlottery.co.kr/gameResult.do?method=byWin&drwwNo=883\"\n",
    "# div class = \"win_result\"\n",
    "\n",
    "req = requests.get(url)\n",
    "req.text\n",
    "soup = BeautifulSoup(req.text,\"html.parser\")\n",
    "txt = soup.find(\"div\", attrs={\"class\",\"win_result\"}).get_text()\n",
    "# print(soup)\n",
    "num_list = txt.split(\"\\n\")\n",
    "num_list = txt.split(\"\\n\")[7:13]\n",
    "\n",
    "bonus = txt.split(\"\\n\")\n",
    "bonus = txt.split(\"\\n\")[-4]\n",
    "\n",
    "print(\"당첨번호\")\n",
    "print(num_list)\n",
    "print(\"보너스 번호\")\n",
    "print(bonus)"
   ]
  },
  {
   "cell_type": "code",
   "execution_count": null,
   "metadata": {},
   "outputs": [],
   "source": []
  },
  {
   "cell_type": "code",
   "execution_count": null,
   "metadata": {},
   "outputs": [],
   "source": []
  }
 ],
 "metadata": {
  "kernelspec": {
   "display_name": "Python 3",
   "language": "python",
   "name": "python3"
  },
  "language_info": {
   "codemirror_mode": {
    "name": "ipython",
    "version": 3
   },
   "file_extension": ".py",
   "mimetype": "text/x-python",
   "name": "python",
   "nbconvert_exporter": "python",
   "pygments_lexer": "ipython3",
   "version": "3.8.5"
  }
 },
 "nbformat": 4,
 "nbformat_minor": 4
}
